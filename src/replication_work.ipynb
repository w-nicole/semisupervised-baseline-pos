{
 "cells": [
  {
   "cell_type": "code",
   "execution_count": 4,
   "id": "6c070b96",
   "metadata": {},
   "outputs": [],
   "source": [
    "import pandas as pd\n",
    "import os\n",
    "import numpy as np\n",
    "\n",
    "from analysis import compile_metrics\n",
    "from pprint import pprint\n",
    "\n",
    "import glob"
   ]
  },
  {
   "cell_type": "code",
   "execution_count": 5,
   "id": "403bec42",
   "metadata": {},
   "outputs": [],
   "source": [
    "all_languages = [\"Bulgarian\", \"Danish\", \"German\", \"English\", \"Spanish\", \"Persian\", \"Hungarian\", \"Italian\", \"Dutch\", \"Polish\", \"Portuguese\", \"Romanian\", \"Slovak\", \"Slovenian\", \"Swedish\"]"
   ]
  },
  {
   "cell_type": "code",
   "execution_count": 10,
   "id": "341d090a",
   "metadata": {},
   "outputs": [],
   "source": [
    "# Need to look at the results of the hyperparameter search\n",
    "\n",
    "import importlib\n",
    "importlib.reload(compile_metrics)\n",
    "\n",
    "# Need to compare for different versions\n",
    "\n",
    "from collections import defaultdict\n",
    "version_metrics = defaultdict(int)\n",
    "best_version_keys = defaultdict(str)\n",
    "# Total expected: 12\n",
    "represented_metrics = defaultdict(set)\n",
    "\n",
    "for seed in [42]:\n",
    "\n",
    "    seed_path = f'../experiments/crosslingual_private_grid/seed={seed}'\n",
    "    hyperparameter_search_path = os.path.join(seed_path, '0-shot-finetune-freeze-1', 'bert-base-multilingual-cased')\n",
    "\n",
    "    current_version_metrics = {}\n",
    "    hyperparameter_version_base_path = f'{hyperparameter_search_path}/*/version_0'\n",
    "    \n",
    "    hyperparameter_paths = glob.glob(hyperparameter_version_base_path)\n",
    "    \n",
    "    for path in hyperparameter_paths:\n",
    "        represented_metrics[seed] |= {path.split('/')[-2]}\n",
    "        best_validation_entry = compile_metrics.load_evaluation_results(path, 'val')\n",
    "        best_validation_accuracy = best_validation_entry['val_English_acc']\n",
    "        current_version_metrics[path] = best_validation_accuracy\n",
    "    \n",
    "    all_keys = sorted(current_version_metrics.keys())\n",
    "    \n",
    "    # Look for the maximum value amongst the grid search values\n",
    "    sorted_key_indices = np.argsort(list(map(lambda entry : current_version_metrics[entry], all_keys)))\n",
    "    best_key_index = sorted_key_indices[-1]\n",
    "    best_key = all_keys[best_key_index]\n",
    "    best_version_keys[seed] = best_key\n",
    "    \n",
    "    test_accuracies = compile_metrics.generate_accuracy_dict(best_key, 'tst', all_languages)\n",
    "    paper_difference = compile_metrics.compare_results_to_paper(test_accuracies)\n",
    "    \n",
    "    version_metrics[seed] = (test_accuracies, paper_difference)\n",
    "    "
   ]
  },
  {
   "cell_type": "code",
   "execution_count": 12,
   "id": "761481e5",
   "metadata": {},
   "outputs": [
    {
     "data": {
      "text/plain": [
       "defaultdict(int,\n",
       "            {42: ({'Bulgarian': 87.44120788574219,\n",
       "               'Danish': 88.85111999511719,\n",
       "               'German': 90.61707305908203,\n",
       "               'English': 96.93975067138672,\n",
       "               'Spanish': 87.2878189086914,\n",
       "               'Persian': 72.51717376708984,\n",
       "               'Hungarian': 82.93206024169922,\n",
       "               'Italian': 91.47789764404297,\n",
       "               'Dutch': 75.5525131225586,\n",
       "               'Polish': 85.78205871582031,\n",
       "               'Portuguese': 88.57642364501953,\n",
       "               'Romanian': 83.96122741699219,\n",
       "               'Slovak': 84.01200866699219,\n",
       "               'Slovenian': 84.73298645019531,\n",
       "               'Swedish': 91.76031494140625},\n",
       "              {'Bulgarian': 0.041207885742181816,\n",
       "               'Danish': 0.5511199951171903,\n",
       "               'German': 0.8170730590820341,\n",
       "               'English': -0.16024932861327557,\n",
       "               'Spanish': 2.0878189086914034,\n",
       "               'Persian': -0.2828262329101534,\n",
       "               'Hungarian': -0.2679397583007841,\n",
       "               'Italian': 6.777897644042966,\n",
       "               'Dutch': -0.34748687744141193,\n",
       "               'Polish': -1.1179412841796932,\n",
       "               'Portuguese': 6.476423645019537,\n",
       "               'Romanian': -0.7387725830078153,\n",
       "               'Slovak': 0.4120086669921932,\n",
       "               'Slovenian': 0.5329864501953097,\n",
       "               'Swedish': 0.46031494140625284})})"
      ]
     },
     "execution_count": 12,
     "metadata": {},
     "output_type": "execute_result"
    }
   ],
   "source": [
    "version_metrics"
   ]
  },
  {
   "cell_type": "markdown",
   "id": "a283bad0",
   "metadata": {},
   "source": [
    "## compile their val metrics for use in baseline comparisons"
   ]
  },
  {
   "cell_type": "code",
   "execution_count": 11,
   "id": "7557dfd9",
   "metadata": {},
   "outputs": [
    {
     "name": "stdout",
     "output_type": "stream",
     "text": [
      "../experiments/crosslingual_private_grid/seed=42/0-shot-finetune-freeze-1/bert-base-multilingual-cased/bs32-lr5e-5-ep4/version_0\n",
      "{'step': 1571,\n",
      " 'val_English_acc': 97.12104034423828,\n",
      " 'val_English_loss': 0.12849466502666473,\n",
      " 'val_acc': 97.12104034423828,\n",
      " 'val_loss': 0.12849466502666473}\n"
     ]
    }
   ],
   "source": [
    "# Need to look at the results of the hyperparameter search\n",
    "\n",
    "print(best_version_keys[42])\n",
    "best_validation_accuracy = compile_metrics.load_evaluation_results(best_version_keys[42], 'val')\n",
    "\n",
    "import pprint\n",
    "pprint.pprint(best_validation_accuracy)\n",
    "\n",
    "# Note that will need to evaluate baseline accuracy on the other languages' val set."
   ]
  }
 ],
 "metadata": {
  "kernelspec": {
   "display_name": "Python 3 (ipykernel)",
   "language": "python",
   "name": "python3"
  },
  "language_info": {
   "codemirror_mode": {
    "name": "ipython",
    "version": 3
   },
   "file_extension": ".py",
   "mimetype": "text/x-python",
   "name": "python",
   "nbconvert_exporter": "python",
   "pygments_lexer": "ipython3",
   "version": "3.9.7"
  }
 },
 "nbformat": 4,
 "nbformat_minor": 5
}
